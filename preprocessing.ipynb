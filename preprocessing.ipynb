{
 "metadata": {
  "language_info": {
   "codemirror_mode": {
    "name": "ipython",
    "version": 3
   },
   "file_extension": ".py",
   "mimetype": "text/x-python",
   "name": "python",
   "nbconvert_exporter": "python",
   "pygments_lexer": "ipython3",
   "version": "3.7.8-final"
  },
  "orig_nbformat": 2,
  "kernelspec": {
   "name": "Python 3.7.8 64-bit",
   "display_name": "Python 3.7.8 64-bit",
   "metadata": {
    "interpreter": {
     "hash": "6cb03592f785720305d7babed37e6374b464053855ffaee0060c9bb5326e745c"
    }
   }
  }
 },
 "nbformat": 4,
 "nbformat_minor": 2,
 "cells": [
  {
   "cell_type": "code",
   "execution_count": 27,
   "metadata": {},
   "outputs": [],
   "source": [
    "import pandas as pd \n",
    "import numpy as np \n",
    "import matplotlib.pyplot as plt \n",
    "import seaborn as snb \n"
   ]
  },
  {
   "cell_type": "code",
   "execution_count": 28,
   "metadata": {},
   "outputs": [
    {
     "output_type": "execute_result",
     "data": {
      "text/plain": [
       "                                            position             company  \\\n",
       "0                               Development Director             ALS TDI   \n",
       "1  An Ostentatiously-Excitable Principal Research...  The Hexagon Lavish   \n",
       "2                                     Data Scientist      Xpert Staffing   \n",
       "3                                       Data Analyst      Operation HOPE   \n",
       "4  Assistant Professor -TT - Signal Processing & ...    Emory University   \n",
       "\n",
       "                                         description  reviews  \\\n",
       "0  Development Director\\nALS Therapy Development ...      NaN   \n",
       "1  Job Description\\n\\n\"The road that leads to acc...      NaN   \n",
       "2  Growing company located in the Atlanta, GA are...      NaN   \n",
       "3  DEPARTMENT: Program OperationsPOSITION LOCATIO...     44.0   \n",
       "4  DESCRIPTION\\nThe Emory University Department o...    550.0   \n",
       "\n",
       "             location  \n",
       "0  Atlanta, GA 30301   \n",
       "1         Atlanta, GA  \n",
       "2         Atlanta, GA  \n",
       "3  Atlanta, GA 30303   \n",
       "4         Atlanta, GA  "
      ],
      "text/html": "<div>\n<style scoped>\n    .dataframe tbody tr th:only-of-type {\n        vertical-align: middle;\n    }\n\n    .dataframe tbody tr th {\n        vertical-align: top;\n    }\n\n    .dataframe thead th {\n        text-align: right;\n    }\n</style>\n<table border=\"1\" class=\"dataframe\">\n  <thead>\n    <tr style=\"text-align: right;\">\n      <th></th>\n      <th>position</th>\n      <th>company</th>\n      <th>description</th>\n      <th>reviews</th>\n      <th>location</th>\n    </tr>\n  </thead>\n  <tbody>\n    <tr>\n      <th>0</th>\n      <td>Development Director</td>\n      <td>ALS TDI</td>\n      <td>Development Director\\nALS Therapy Development ...</td>\n      <td>NaN</td>\n      <td>Atlanta, GA 30301</td>\n    </tr>\n    <tr>\n      <th>1</th>\n      <td>An Ostentatiously-Excitable Principal Research...</td>\n      <td>The Hexagon Lavish</td>\n      <td>Job Description\\n\\n\"The road that leads to acc...</td>\n      <td>NaN</td>\n      <td>Atlanta, GA</td>\n    </tr>\n    <tr>\n      <th>2</th>\n      <td>Data Scientist</td>\n      <td>Xpert Staffing</td>\n      <td>Growing company located in the Atlanta, GA are...</td>\n      <td>NaN</td>\n      <td>Atlanta, GA</td>\n    </tr>\n    <tr>\n      <th>3</th>\n      <td>Data Analyst</td>\n      <td>Operation HOPE</td>\n      <td>DEPARTMENT: Program OperationsPOSITION LOCATIO...</td>\n      <td>44.0</td>\n      <td>Atlanta, GA 30303</td>\n    </tr>\n    <tr>\n      <th>4</th>\n      <td>Assistant Professor -TT - Signal Processing &amp; ...</td>\n      <td>Emory University</td>\n      <td>DESCRIPTION\\nThe Emory University Department o...</td>\n      <td>550.0</td>\n      <td>Atlanta, GA</td>\n    </tr>\n  </tbody>\n</table>\n</div>"
     },
     "metadata": {},
     "execution_count": 28
    }
   ],
   "source": [
    "df = pd.read_csv('alldata.csv')\n",
    "df.head()"
   ]
  },
  {
   "cell_type": "code",
   "execution_count": 29,
   "metadata": {},
   "outputs": [
    {
     "output_type": "execute_result",
     "data": {
      "text/plain": [
       "position        object\n",
       "company         object\n",
       "description     object\n",
       "reviews        float64\n",
       "location        object\n",
       "dtype: object"
      ]
     },
     "metadata": {},
     "execution_count": 29
    }
   ],
   "source": [
    "df.dtypes"
   ]
  },
  {
   "cell_type": "code",
   "execution_count": 30,
   "metadata": {},
   "outputs": [
    {
     "output_type": "execute_result",
     "data": {
      "text/plain": [
       "Index(['position', 'company', 'description', 'reviews', 'location'], dtype='object')"
      ]
     },
     "metadata": {},
     "execution_count": 30
    }
   ],
   "source": [
    "df.keys()"
   ]
  },
  {
   "cell_type": "code",
   "execution_count": 31,
   "metadata": {},
   "outputs": [
    {
     "output_type": "execute_result",
     "data": {
      "text/plain": [
       "      position  company  description  reviews  location\n",
       "0        False    False        False     True     False\n",
       "1        False    False        False     True     False\n",
       "2        False    False        False     True     False\n",
       "3        False    False        False    False     False\n",
       "4        False    False        False    False     False\n",
       "...        ...      ...          ...      ...       ...\n",
       "6959     False    False        False    False     False\n",
       "6960     False    False        False    False     False\n",
       "6961     False    False        False    False     False\n",
       "6962     False    False        False    False     False\n",
       "6963     False    False        False    False     False\n",
       "\n",
       "[6964 rows x 5 columns]"
      ],
      "text/html": "<div>\n<style scoped>\n    .dataframe tbody tr th:only-of-type {\n        vertical-align: middle;\n    }\n\n    .dataframe tbody tr th {\n        vertical-align: top;\n    }\n\n    .dataframe thead th {\n        text-align: right;\n    }\n</style>\n<table border=\"1\" class=\"dataframe\">\n  <thead>\n    <tr style=\"text-align: right;\">\n      <th></th>\n      <th>position</th>\n      <th>company</th>\n      <th>description</th>\n      <th>reviews</th>\n      <th>location</th>\n    </tr>\n  </thead>\n  <tbody>\n    <tr>\n      <th>0</th>\n      <td>False</td>\n      <td>False</td>\n      <td>False</td>\n      <td>True</td>\n      <td>False</td>\n    </tr>\n    <tr>\n      <th>1</th>\n      <td>False</td>\n      <td>False</td>\n      <td>False</td>\n      <td>True</td>\n      <td>False</td>\n    </tr>\n    <tr>\n      <th>2</th>\n      <td>False</td>\n      <td>False</td>\n      <td>False</td>\n      <td>True</td>\n      <td>False</td>\n    </tr>\n    <tr>\n      <th>3</th>\n      <td>False</td>\n      <td>False</td>\n      <td>False</td>\n      <td>False</td>\n      <td>False</td>\n    </tr>\n    <tr>\n      <th>4</th>\n      <td>False</td>\n      <td>False</td>\n      <td>False</td>\n      <td>False</td>\n      <td>False</td>\n    </tr>\n    <tr>\n      <th>...</th>\n      <td>...</td>\n      <td>...</td>\n      <td>...</td>\n      <td>...</td>\n      <td>...</td>\n    </tr>\n    <tr>\n      <th>6959</th>\n      <td>False</td>\n      <td>False</td>\n      <td>False</td>\n      <td>False</td>\n      <td>False</td>\n    </tr>\n    <tr>\n      <th>6960</th>\n      <td>False</td>\n      <td>False</td>\n      <td>False</td>\n      <td>False</td>\n      <td>False</td>\n    </tr>\n    <tr>\n      <th>6961</th>\n      <td>False</td>\n      <td>False</td>\n      <td>False</td>\n      <td>False</td>\n      <td>False</td>\n    </tr>\n    <tr>\n      <th>6962</th>\n      <td>False</td>\n      <td>False</td>\n      <td>False</td>\n      <td>False</td>\n      <td>False</td>\n    </tr>\n    <tr>\n      <th>6963</th>\n      <td>False</td>\n      <td>False</td>\n      <td>False</td>\n      <td>False</td>\n      <td>False</td>\n    </tr>\n  </tbody>\n</table>\n<p>6964 rows × 5 columns</p>\n</div>"
     },
     "metadata": {},
     "execution_count": 31
    }
   ],
   "source": [
    "df.isnull() "
   ]
  },
  {
   "cell_type": "code",
   "execution_count": 32,
   "metadata": {},
   "outputs": [
    {
     "output_type": "execute_result",
     "data": {
      "text/plain": [
       "position         11\n",
       "company          11\n",
       "description      11\n",
       "reviews        1638\n",
       "location         11\n",
       "dtype: int64"
      ]
     },
     "metadata": {},
     "execution_count": 32
    }
   ],
   "source": [
    "df.isnull().sum()"
   ]
  },
  {
   "cell_type": "code",
   "execution_count": 33,
   "metadata": {},
   "outputs": [
    {
     "output_type": "execute_result",
     "data": {
      "text/plain": [
       "                                               position  \\\n",
       "0                                  Development Director   \n",
       "1     An Ostentatiously-Excitable Principal Research...   \n",
       "2                                        Data Scientist   \n",
       "3                                          Data Analyst   \n",
       "4     Assistant Professor -TT - Signal Processing & ...   \n",
       "...                                                 ...   \n",
       "6959          Data Developer / Machine Learning Analyst   \n",
       "6960                                        Scientist I   \n",
       "6961                                   Intern Scientist   \n",
       "6962                    Senior Data & Applied Scientist   \n",
       "6963            Principal Data Scientist, Deep Learning   \n",
       "\n",
       "                               company  \\\n",
       "0                              ALS TDI   \n",
       "1                   The Hexagon Lavish   \n",
       "2                       Xpert Staffing   \n",
       "3                       Operation HOPE   \n",
       "4                     Emory University   \n",
       "...                                ...   \n",
       "6959                            NetApp   \n",
       "6960  Pharmacyclics, an Abbvie Company   \n",
       "6961                          Oath Inc   \n",
       "6962                         Microsoft   \n",
       "6963                           Comcast   \n",
       "\n",
       "                                            description  reviews  \\\n",
       "0     Development Director\\nALS Therapy Development ...      NaN   \n",
       "1     Job Description\\n\\n\"The road that leads to acc...      NaN   \n",
       "2     Growing company located in the Atlanta, GA are...      NaN   \n",
       "3     DEPARTMENT: Program OperationsPOSITION LOCATIO...     44.0   \n",
       "4     DESCRIPTION\\nThe Emory University Department o...    550.0   \n",
       "...                                                 ...      ...   \n",
       "6959  Are you data-driven? We at NetApp believe in t...    574.0   \n",
       "6960  Pharmacyclics is committed to the development ...     26.0   \n",
       "6961  Oath, a subsidiary of Verizon, is a values-led...      5.0   \n",
       "6962  We are the Bing Core Relevance team responsibl...   4618.0   \n",
       "6963  Comcast’s Technology &amp; Product organizatio...  11610.0   \n",
       "\n",
       "                 location  \n",
       "0      Atlanta, GA 30301   \n",
       "1             Atlanta, GA  \n",
       "2             Atlanta, GA  \n",
       "3      Atlanta, GA 30303   \n",
       "4             Atlanta, GA  \n",
       "...                   ...  \n",
       "6959        Sunnyvale, CA  \n",
       "6960        Sunnyvale, CA  \n",
       "6961        Sunnyvale, CA  \n",
       "6962        Sunnyvale, CA  \n",
       "6963  Sunnyvale, CA 94089  \n",
       "\n",
       "[6964 rows x 5 columns]"
      ],
      "text/html": "<div>\n<style scoped>\n    .dataframe tbody tr th:only-of-type {\n        vertical-align: middle;\n    }\n\n    .dataframe tbody tr th {\n        vertical-align: top;\n    }\n\n    .dataframe thead th {\n        text-align: right;\n    }\n</style>\n<table border=\"1\" class=\"dataframe\">\n  <thead>\n    <tr style=\"text-align: right;\">\n      <th></th>\n      <th>position</th>\n      <th>company</th>\n      <th>description</th>\n      <th>reviews</th>\n      <th>location</th>\n    </tr>\n  </thead>\n  <tbody>\n    <tr>\n      <th>0</th>\n      <td>Development Director</td>\n      <td>ALS TDI</td>\n      <td>Development Director\\nALS Therapy Development ...</td>\n      <td>NaN</td>\n      <td>Atlanta, GA 30301</td>\n    </tr>\n    <tr>\n      <th>1</th>\n      <td>An Ostentatiously-Excitable Principal Research...</td>\n      <td>The Hexagon Lavish</td>\n      <td>Job Description\\n\\n\"The road that leads to acc...</td>\n      <td>NaN</td>\n      <td>Atlanta, GA</td>\n    </tr>\n    <tr>\n      <th>2</th>\n      <td>Data Scientist</td>\n      <td>Xpert Staffing</td>\n      <td>Growing company located in the Atlanta, GA are...</td>\n      <td>NaN</td>\n      <td>Atlanta, GA</td>\n    </tr>\n    <tr>\n      <th>3</th>\n      <td>Data Analyst</td>\n      <td>Operation HOPE</td>\n      <td>DEPARTMENT: Program OperationsPOSITION LOCATIO...</td>\n      <td>44.0</td>\n      <td>Atlanta, GA 30303</td>\n    </tr>\n    <tr>\n      <th>4</th>\n      <td>Assistant Professor -TT - Signal Processing &amp; ...</td>\n      <td>Emory University</td>\n      <td>DESCRIPTION\\nThe Emory University Department o...</td>\n      <td>550.0</td>\n      <td>Atlanta, GA</td>\n    </tr>\n    <tr>\n      <th>...</th>\n      <td>...</td>\n      <td>...</td>\n      <td>...</td>\n      <td>...</td>\n      <td>...</td>\n    </tr>\n    <tr>\n      <th>6959</th>\n      <td>Data Developer / Machine Learning Analyst</td>\n      <td>NetApp</td>\n      <td>Are you data-driven? We at NetApp believe in t...</td>\n      <td>574.0</td>\n      <td>Sunnyvale, CA</td>\n    </tr>\n    <tr>\n      <th>6960</th>\n      <td>Scientist I</td>\n      <td>Pharmacyclics, an Abbvie Company</td>\n      <td>Pharmacyclics is committed to the development ...</td>\n      <td>26.0</td>\n      <td>Sunnyvale, CA</td>\n    </tr>\n    <tr>\n      <th>6961</th>\n      <td>Intern Scientist</td>\n      <td>Oath Inc</td>\n      <td>Oath, a subsidiary of Verizon, is a values-led...</td>\n      <td>5.0</td>\n      <td>Sunnyvale, CA</td>\n    </tr>\n    <tr>\n      <th>6962</th>\n      <td>Senior Data &amp; Applied Scientist</td>\n      <td>Microsoft</td>\n      <td>We are the Bing Core Relevance team responsibl...</td>\n      <td>4618.0</td>\n      <td>Sunnyvale, CA</td>\n    </tr>\n    <tr>\n      <th>6963</th>\n      <td>Principal Data Scientist, Deep Learning</td>\n      <td>Comcast</td>\n      <td>Comcast’s Technology &amp;amp; Product organizatio...</td>\n      <td>11610.0</td>\n      <td>Sunnyvale, CA 94089</td>\n    </tr>\n  </tbody>\n</table>\n<p>6964 rows × 5 columns</p>\n</div>"
     },
     "metadata": {},
     "execution_count": 33
    }
   ],
   "source": [
    "df = df.replace(['-','na'], np.nan)\n",
    "df"
   ]
  },
  {
   "cell_type": "code",
   "execution_count": 34,
   "metadata": {},
   "outputs": [
    {
     "output_type": "execute_result",
     "data": {
      "text/plain": [
       "                                               position  \\\n",
       "3                                          Data Analyst   \n",
       "4     Assistant Professor -TT - Signal Processing & ...   \n",
       "5                           Manager of Data Engineering   \n",
       "6          Product Specialist - Periscope, New Ventures   \n",
       "7     Junior to Mid-level Engineer, Geologist or Env...   \n",
       "...                                                 ...   \n",
       "6959          Data Developer / Machine Learning Analyst   \n",
       "6960                                        Scientist I   \n",
       "6961                                   Intern Scientist   \n",
       "6962                    Senior Data & Applied Scientist   \n",
       "6963            Principal Data Scientist, Deep Learning   \n",
       "\n",
       "                               company  \\\n",
       "3                       Operation HOPE   \n",
       "4                     Emory University   \n",
       "5                   McKinsey & Company   \n",
       "6                   McKinsey & Company   \n",
       "7                                 Wood   \n",
       "...                                ...   \n",
       "6959                            NetApp   \n",
       "6960  Pharmacyclics, an Abbvie Company   \n",
       "6961                          Oath Inc   \n",
       "6962                         Microsoft   \n",
       "6963                           Comcast   \n",
       "\n",
       "                                            description  reviews  \\\n",
       "3     DEPARTMENT: Program OperationsPOSITION LOCATIO...     44.0   \n",
       "4     DESCRIPTION\\nThe Emory University Department o...    550.0   \n",
       "5     Qualifications\\nBachelor’s degree in Computer ...    385.0   \n",
       "6     Qualifications\\nBachelor’s degree\\n5-7 years o...    385.0   \n",
       "7     Overview / Responsibilities\\nWood Environment ...    899.0   \n",
       "...                                                 ...      ...   \n",
       "6959  Are you data-driven? We at NetApp believe in t...    574.0   \n",
       "6960  Pharmacyclics is committed to the development ...     26.0   \n",
       "6961  Oath, a subsidiary of Verizon, is a values-led...      5.0   \n",
       "6962  We are the Bing Core Relevance team responsibl...   4618.0   \n",
       "6963  Comcast’s Technology &amp; Product organizatio...  11610.0   \n",
       "\n",
       "                 location  \n",
       "3      Atlanta, GA 30303   \n",
       "4             Atlanta, GA  \n",
       "5      Atlanta, GA 30318   \n",
       "6      Atlanta, GA 30318   \n",
       "7             Atlanta, GA  \n",
       "...                   ...  \n",
       "6959        Sunnyvale, CA  \n",
       "6960        Sunnyvale, CA  \n",
       "6961        Sunnyvale, CA  \n",
       "6962        Sunnyvale, CA  \n",
       "6963  Sunnyvale, CA 94089  \n",
       "\n",
       "[5326 rows x 5 columns]"
      ],
      "text/html": "<div>\n<style scoped>\n    .dataframe tbody tr th:only-of-type {\n        vertical-align: middle;\n    }\n\n    .dataframe tbody tr th {\n        vertical-align: top;\n    }\n\n    .dataframe thead th {\n        text-align: right;\n    }\n</style>\n<table border=\"1\" class=\"dataframe\">\n  <thead>\n    <tr style=\"text-align: right;\">\n      <th></th>\n      <th>position</th>\n      <th>company</th>\n      <th>description</th>\n      <th>reviews</th>\n      <th>location</th>\n    </tr>\n  </thead>\n  <tbody>\n    <tr>\n      <th>3</th>\n      <td>Data Analyst</td>\n      <td>Operation HOPE</td>\n      <td>DEPARTMENT: Program OperationsPOSITION LOCATIO...</td>\n      <td>44.0</td>\n      <td>Atlanta, GA 30303</td>\n    </tr>\n    <tr>\n      <th>4</th>\n      <td>Assistant Professor -TT - Signal Processing &amp; ...</td>\n      <td>Emory University</td>\n      <td>DESCRIPTION\\nThe Emory University Department o...</td>\n      <td>550.0</td>\n      <td>Atlanta, GA</td>\n    </tr>\n    <tr>\n      <th>5</th>\n      <td>Manager of Data Engineering</td>\n      <td>McKinsey &amp; Company</td>\n      <td>Qualifications\\nBachelor’s degree in Computer ...</td>\n      <td>385.0</td>\n      <td>Atlanta, GA 30318</td>\n    </tr>\n    <tr>\n      <th>6</th>\n      <td>Product Specialist - Periscope, New Ventures</td>\n      <td>McKinsey &amp; Company</td>\n      <td>Qualifications\\nBachelor’s degree\\n5-7 years o...</td>\n      <td>385.0</td>\n      <td>Atlanta, GA 30318</td>\n    </tr>\n    <tr>\n      <th>7</th>\n      <td>Junior to Mid-level Engineer, Geologist or Env...</td>\n      <td>Wood</td>\n      <td>Overview / Responsibilities\\nWood Environment ...</td>\n      <td>899.0</td>\n      <td>Atlanta, GA</td>\n    </tr>\n    <tr>\n      <th>...</th>\n      <td>...</td>\n      <td>...</td>\n      <td>...</td>\n      <td>...</td>\n      <td>...</td>\n    </tr>\n    <tr>\n      <th>6959</th>\n      <td>Data Developer / Machine Learning Analyst</td>\n      <td>NetApp</td>\n      <td>Are you data-driven? We at NetApp believe in t...</td>\n      <td>574.0</td>\n      <td>Sunnyvale, CA</td>\n    </tr>\n    <tr>\n      <th>6960</th>\n      <td>Scientist I</td>\n      <td>Pharmacyclics, an Abbvie Company</td>\n      <td>Pharmacyclics is committed to the development ...</td>\n      <td>26.0</td>\n      <td>Sunnyvale, CA</td>\n    </tr>\n    <tr>\n      <th>6961</th>\n      <td>Intern Scientist</td>\n      <td>Oath Inc</td>\n      <td>Oath, a subsidiary of Verizon, is a values-led...</td>\n      <td>5.0</td>\n      <td>Sunnyvale, CA</td>\n    </tr>\n    <tr>\n      <th>6962</th>\n      <td>Senior Data &amp; Applied Scientist</td>\n      <td>Microsoft</td>\n      <td>We are the Bing Core Relevance team responsibl...</td>\n      <td>4618.0</td>\n      <td>Sunnyvale, CA</td>\n    </tr>\n    <tr>\n      <th>6963</th>\n      <td>Principal Data Scientist, Deep Learning</td>\n      <td>Comcast</td>\n      <td>Comcast’s Technology &amp;amp; Product organizatio...</td>\n      <td>11610.0</td>\n      <td>Sunnyvale, CA 94089</td>\n    </tr>\n  </tbody>\n</table>\n<p>5326 rows × 5 columns</p>\n</div>"
     },
     "metadata": {},
     "execution_count": 34
    }
   ],
   "source": [
    "df.dropna()"
   ]
  },
  {
   "cell_type": "code",
   "execution_count": 35,
   "metadata": {},
   "outputs": [
    {
     "output_type": "execute_result",
     "data": {
      "text/plain": [
       "                                               position  \\\n",
       "0                                  Development Director   \n",
       "1     An Ostentatiously-Excitable Principal Research...   \n",
       "2                                        Data Scientist   \n",
       "3                                          Data Analyst   \n",
       "4     Assistant Professor -TT - Signal Processing & ...   \n",
       "...                                                 ...   \n",
       "6959          Data Developer / Machine Learning Analyst   \n",
       "6960                                        Scientist I   \n",
       "6961                                   Intern Scientist   \n",
       "6962                    Senior Data & Applied Scientist   \n",
       "6963            Principal Data Scientist, Deep Learning   \n",
       "\n",
       "                               company  reviews             location  \n",
       "0                              ALS TDI      NaN   Atlanta, GA 30301   \n",
       "1                   The Hexagon Lavish      NaN          Atlanta, GA  \n",
       "2                       Xpert Staffing      NaN          Atlanta, GA  \n",
       "3                       Operation HOPE     44.0   Atlanta, GA 30303   \n",
       "4                     Emory University    550.0          Atlanta, GA  \n",
       "...                                ...      ...                  ...  \n",
       "6959                            NetApp    574.0        Sunnyvale, CA  \n",
       "6960  Pharmacyclics, an Abbvie Company     26.0        Sunnyvale, CA  \n",
       "6961                          Oath Inc      5.0        Sunnyvale, CA  \n",
       "6962                         Microsoft   4618.0        Sunnyvale, CA  \n",
       "6963                           Comcast  11610.0  Sunnyvale, CA 94089  \n",
       "\n",
       "[6964 rows x 4 columns]"
      ],
      "text/html": "<div>\n<style scoped>\n    .dataframe tbody tr th:only-of-type {\n        vertical-align: middle;\n    }\n\n    .dataframe tbody tr th {\n        vertical-align: top;\n    }\n\n    .dataframe thead th {\n        text-align: right;\n    }\n</style>\n<table border=\"1\" class=\"dataframe\">\n  <thead>\n    <tr style=\"text-align: right;\">\n      <th></th>\n      <th>position</th>\n      <th>company</th>\n      <th>reviews</th>\n      <th>location</th>\n    </tr>\n  </thead>\n  <tbody>\n    <tr>\n      <th>0</th>\n      <td>Development Director</td>\n      <td>ALS TDI</td>\n      <td>NaN</td>\n      <td>Atlanta, GA 30301</td>\n    </tr>\n    <tr>\n      <th>1</th>\n      <td>An Ostentatiously-Excitable Principal Research...</td>\n      <td>The Hexagon Lavish</td>\n      <td>NaN</td>\n      <td>Atlanta, GA</td>\n    </tr>\n    <tr>\n      <th>2</th>\n      <td>Data Scientist</td>\n      <td>Xpert Staffing</td>\n      <td>NaN</td>\n      <td>Atlanta, GA</td>\n    </tr>\n    <tr>\n      <th>3</th>\n      <td>Data Analyst</td>\n      <td>Operation HOPE</td>\n      <td>44.0</td>\n      <td>Atlanta, GA 30303</td>\n    </tr>\n    <tr>\n      <th>4</th>\n      <td>Assistant Professor -TT - Signal Processing &amp; ...</td>\n      <td>Emory University</td>\n      <td>550.0</td>\n      <td>Atlanta, GA</td>\n    </tr>\n    <tr>\n      <th>...</th>\n      <td>...</td>\n      <td>...</td>\n      <td>...</td>\n      <td>...</td>\n    </tr>\n    <tr>\n      <th>6959</th>\n      <td>Data Developer / Machine Learning Analyst</td>\n      <td>NetApp</td>\n      <td>574.0</td>\n      <td>Sunnyvale, CA</td>\n    </tr>\n    <tr>\n      <th>6960</th>\n      <td>Scientist I</td>\n      <td>Pharmacyclics, an Abbvie Company</td>\n      <td>26.0</td>\n      <td>Sunnyvale, CA</td>\n    </tr>\n    <tr>\n      <th>6961</th>\n      <td>Intern Scientist</td>\n      <td>Oath Inc</td>\n      <td>5.0</td>\n      <td>Sunnyvale, CA</td>\n    </tr>\n    <tr>\n      <th>6962</th>\n      <td>Senior Data &amp; Applied Scientist</td>\n      <td>Microsoft</td>\n      <td>4618.0</td>\n      <td>Sunnyvale, CA</td>\n    </tr>\n    <tr>\n      <th>6963</th>\n      <td>Principal Data Scientist, Deep Learning</td>\n      <td>Comcast</td>\n      <td>11610.0</td>\n      <td>Sunnyvale, CA 94089</td>\n    </tr>\n  </tbody>\n</table>\n<p>6964 rows × 4 columns</p>\n</div>"
     },
     "metadata": {},
     "execution_count": 35
    }
   ],
   "source": [
    "df.drop(['description'],axis=1)"
   ]
  },
  {
   "cell_type": "code",
   "execution_count": 36,
   "metadata": {},
   "outputs": [
    {
     "output_type": "execute_result",
     "data": {
      "text/plain": [
       "3179.0891851295532"
      ]
     },
     "metadata": {},
     "execution_count": 36
    }
   ],
   "source": [
    "# Checking for missing values\n",
    "mean_lat=df['reviews'].mean()\n",
    "mean_lat"
   ]
  },
  {
   "cell_type": "code",
   "execution_count": 37,
   "metadata": {},
   "outputs": [
    {
     "output_type": "execute_result",
     "data": {
      "text/plain": [
       "0                                    DEVELOPMENT DIRECTOR\n",
       "1       AN OSTENTATIOUSLY-EXCITABLE PRINCIPAL RESEARCH...\n",
       "2                                          DATA SCIENTIST\n",
       "3                                            DATA ANALYST\n",
       "4       ASSISTANT PROFESSOR -TT - SIGNAL PROCESSING & ...\n",
       "                              ...                        \n",
       "6959            DATA DEVELOPER / MACHINE LEARNING ANALYST\n",
       "6960                                          SCIENTIST I\n",
       "6961                                     INTERN SCIENTIST\n",
       "6962                      SENIOR DATA & APPLIED SCIENTIST\n",
       "6963              PRINCIPAL DATA SCIENTIST, DEEP LEARNING\n",
       "Name: position, Length: 6964, dtype: object"
      ]
     },
     "metadata": {},
     "execution_count": 37
    }
   ],
   "source": [
    "df['position'].str.upper()"
   ]
  },
  {
   "cell_type": "code",
   "execution_count": 38,
   "metadata": {},
   "outputs": [
    {
     "output_type": "execute_result",
     "data": {
      "text/plain": [
       "                                               position        V1  \\\n",
       "0                                  Development Director  No Value   \n",
       "1     An Ostentatiously-Excitable Principal Research...  No Value   \n",
       "2                                        Data Scientist  No Value   \n",
       "3                                          Data Analyst  No Value   \n",
       "4     Assistant Professor -TT - Signal Processing & ...  No Value   \n",
       "...                                                 ...       ...   \n",
       "6959          Data Developer / Machine Learning Analyst  No Value   \n",
       "6960                                        Scientist I  No Value   \n",
       "6961                                   Intern Scientist  No Value   \n",
       "6962                    Senior Data & Applied Scientist  No Value   \n",
       "6963            Principal Data Scientist, Deep Learning  No Value   \n",
       "\n",
       "                               company  \\\n",
       "0                              ALS TDI   \n",
       "1                   The Hexagon Lavish   \n",
       "2                       Xpert Staffing   \n",
       "3                       Operation HOPE   \n",
       "4                     Emory University   \n",
       "...                                ...   \n",
       "6959                            NetApp   \n",
       "6960  Pharmacyclics, an Abbvie Company   \n",
       "6961                          Oath Inc   \n",
       "6962                         Microsoft   \n",
       "6963                           Comcast   \n",
       "\n",
       "                                            description  reviews  \\\n",
       "0     Development Director\\nALS Therapy Development ...      NaN   \n",
       "1     Job Description\\n\\n\"The road that leads to acc...      NaN   \n",
       "2     Growing company located in the Atlanta, GA are...      NaN   \n",
       "3     DEPARTMENT: Program OperationsPOSITION LOCATIO...     44.0   \n",
       "4     DESCRIPTION\\nThe Emory University Department o...    550.0   \n",
       "...                                                 ...      ...   \n",
       "6959  Are you data-driven? We at NetApp believe in t...    574.0   \n",
       "6960  Pharmacyclics is committed to the development ...     26.0   \n",
       "6961  Oath, a subsidiary of Verizon, is a values-led...      5.0   \n",
       "6962  We are the Bing Core Relevance team responsibl...   4618.0   \n",
       "6963  Comcast’s Technology &amp; Product organizatio...  11610.0   \n",
       "\n",
       "                 location  \n",
       "0      Atlanta, GA 30301   \n",
       "1             Atlanta, GA  \n",
       "2             Atlanta, GA  \n",
       "3      Atlanta, GA 30303   \n",
       "4             Atlanta, GA  \n",
       "...                   ...  \n",
       "6959        Sunnyvale, CA  \n",
       "6960        Sunnyvale, CA  \n",
       "6961        Sunnyvale, CA  \n",
       "6962        Sunnyvale, CA  \n",
       "6963  Sunnyvale, CA 94089  \n",
       "\n",
       "[6964 rows x 6 columns]"
      ],
      "text/html": "<div>\n<style scoped>\n    .dataframe tbody tr th:only-of-type {\n        vertical-align: middle;\n    }\n\n    .dataframe tbody tr th {\n        vertical-align: top;\n    }\n\n    .dataframe thead th {\n        text-align: right;\n    }\n</style>\n<table border=\"1\" class=\"dataframe\">\n  <thead>\n    <tr style=\"text-align: right;\">\n      <th></th>\n      <th>position</th>\n      <th>V1</th>\n      <th>company</th>\n      <th>description</th>\n      <th>reviews</th>\n      <th>location</th>\n    </tr>\n  </thead>\n  <tbody>\n    <tr>\n      <th>0</th>\n      <td>Development Director</td>\n      <td>No Value</td>\n      <td>ALS TDI</td>\n      <td>Development Director\\nALS Therapy Development ...</td>\n      <td>NaN</td>\n      <td>Atlanta, GA 30301</td>\n    </tr>\n    <tr>\n      <th>1</th>\n      <td>An Ostentatiously-Excitable Principal Research...</td>\n      <td>No Value</td>\n      <td>The Hexagon Lavish</td>\n      <td>Job Description\\n\\n\"The road that leads to acc...</td>\n      <td>NaN</td>\n      <td>Atlanta, GA</td>\n    </tr>\n    <tr>\n      <th>2</th>\n      <td>Data Scientist</td>\n      <td>No Value</td>\n      <td>Xpert Staffing</td>\n      <td>Growing company located in the Atlanta, GA are...</td>\n      <td>NaN</td>\n      <td>Atlanta, GA</td>\n    </tr>\n    <tr>\n      <th>3</th>\n      <td>Data Analyst</td>\n      <td>No Value</td>\n      <td>Operation HOPE</td>\n      <td>DEPARTMENT: Program OperationsPOSITION LOCATIO...</td>\n      <td>44.0</td>\n      <td>Atlanta, GA 30303</td>\n    </tr>\n    <tr>\n      <th>4</th>\n      <td>Assistant Professor -TT - Signal Processing &amp; ...</td>\n      <td>No Value</td>\n      <td>Emory University</td>\n      <td>DESCRIPTION\\nThe Emory University Department o...</td>\n      <td>550.0</td>\n      <td>Atlanta, GA</td>\n    </tr>\n    <tr>\n      <th>...</th>\n      <td>...</td>\n      <td>...</td>\n      <td>...</td>\n      <td>...</td>\n      <td>...</td>\n      <td>...</td>\n    </tr>\n    <tr>\n      <th>6959</th>\n      <td>Data Developer / Machine Learning Analyst</td>\n      <td>No Value</td>\n      <td>NetApp</td>\n      <td>Are you data-driven? We at NetApp believe in t...</td>\n      <td>574.0</td>\n      <td>Sunnyvale, CA</td>\n    </tr>\n    <tr>\n      <th>6960</th>\n      <td>Scientist I</td>\n      <td>No Value</td>\n      <td>Pharmacyclics, an Abbvie Company</td>\n      <td>Pharmacyclics is committed to the development ...</td>\n      <td>26.0</td>\n      <td>Sunnyvale, CA</td>\n    </tr>\n    <tr>\n      <th>6961</th>\n      <td>Intern Scientist</td>\n      <td>No Value</td>\n      <td>Oath Inc</td>\n      <td>Oath, a subsidiary of Verizon, is a values-led...</td>\n      <td>5.0</td>\n      <td>Sunnyvale, CA</td>\n    </tr>\n    <tr>\n      <th>6962</th>\n      <td>Senior Data &amp; Applied Scientist</td>\n      <td>No Value</td>\n      <td>Microsoft</td>\n      <td>We are the Bing Core Relevance team responsibl...</td>\n      <td>4618.0</td>\n      <td>Sunnyvale, CA</td>\n    </tr>\n    <tr>\n      <th>6963</th>\n      <td>Principal Data Scientist, Deep Learning</td>\n      <td>No Value</td>\n      <td>Comcast</td>\n      <td>Comcast’s Technology &amp;amp; Product organizatio...</td>\n      <td>11610.0</td>\n      <td>Sunnyvale, CA 94089</td>\n    </tr>\n  </tbody>\n</table>\n<p>6964 rows × 6 columns</p>\n</div>"
     },
     "metadata": {},
     "execution_count": 38
    }
   ],
   "source": [
    "df1= df.copy()\n",
    "df1.insert(1,'V1','No Value',allow_duplicates=True)\n",
    "df1"
   ]
  },
  {
   "cell_type": "code",
   "execution_count": 39,
   "metadata": {},
   "outputs": [
    {
     "output_type": "execute_result",
     "data": {
      "text/plain": [
       "                                               position  \\\n",
       "0                                  Development Director   \n",
       "1     An Ostentatiously-Excitable Principal Research...   \n",
       "2                                        Data Scientist   \n",
       "3                                          Data Analyst   \n",
       "4     Assistant Professor -TT - Signal Processing & ...   \n",
       "...                                                 ...   \n",
       "6959          Data Developer / Machine Learning Analyst   \n",
       "6960                                        Scientist I   \n",
       "6961                                   Intern Scientist   \n",
       "6962                    Senior Data & Applied Scientist   \n",
       "6963            Principal Data Scientist, Deep Learning   \n",
       "\n",
       "                               company  reviews  \n",
       "0                              ALS TDI      NaN  \n",
       "1                   The Hexagon Lavish      NaN  \n",
       "2                       Xpert Staffing      NaN  \n",
       "3                       Operation HOPE     44.0  \n",
       "4                     Emory University    550.0  \n",
       "...                                ...      ...  \n",
       "6959                            NetApp    574.0  \n",
       "6960  Pharmacyclics, an Abbvie Company     26.0  \n",
       "6961                          Oath Inc      5.0  \n",
       "6962                         Microsoft   4618.0  \n",
       "6963                           Comcast  11610.0  \n",
       "\n",
       "[6964 rows x 3 columns]"
      ],
      "text/html": "<div>\n<style scoped>\n    .dataframe tbody tr th:only-of-type {\n        vertical-align: middle;\n    }\n\n    .dataframe tbody tr th {\n        vertical-align: top;\n    }\n\n    .dataframe thead th {\n        text-align: right;\n    }\n</style>\n<table border=\"1\" class=\"dataframe\">\n  <thead>\n    <tr style=\"text-align: right;\">\n      <th></th>\n      <th>position</th>\n      <th>company</th>\n      <th>reviews</th>\n    </tr>\n  </thead>\n  <tbody>\n    <tr>\n      <th>0</th>\n      <td>Development Director</td>\n      <td>ALS TDI</td>\n      <td>NaN</td>\n    </tr>\n    <tr>\n      <th>1</th>\n      <td>An Ostentatiously-Excitable Principal Research...</td>\n      <td>The Hexagon Lavish</td>\n      <td>NaN</td>\n    </tr>\n    <tr>\n      <th>2</th>\n      <td>Data Scientist</td>\n      <td>Xpert Staffing</td>\n      <td>NaN</td>\n    </tr>\n    <tr>\n      <th>3</th>\n      <td>Data Analyst</td>\n      <td>Operation HOPE</td>\n      <td>44.0</td>\n    </tr>\n    <tr>\n      <th>4</th>\n      <td>Assistant Professor -TT - Signal Processing &amp; ...</td>\n      <td>Emory University</td>\n      <td>550.0</td>\n    </tr>\n    <tr>\n      <th>...</th>\n      <td>...</td>\n      <td>...</td>\n      <td>...</td>\n    </tr>\n    <tr>\n      <th>6959</th>\n      <td>Data Developer / Machine Learning Analyst</td>\n      <td>NetApp</td>\n      <td>574.0</td>\n    </tr>\n    <tr>\n      <th>6960</th>\n      <td>Scientist I</td>\n      <td>Pharmacyclics, an Abbvie Company</td>\n      <td>26.0</td>\n    </tr>\n    <tr>\n      <th>6961</th>\n      <td>Intern Scientist</td>\n      <td>Oath Inc</td>\n      <td>5.0</td>\n    </tr>\n    <tr>\n      <th>6962</th>\n      <td>Senior Data &amp; Applied Scientist</td>\n      <td>Microsoft</td>\n      <td>4618.0</td>\n    </tr>\n    <tr>\n      <th>6963</th>\n      <td>Principal Data Scientist, Deep Learning</td>\n      <td>Comcast</td>\n      <td>11610.0</td>\n    </tr>\n  </tbody>\n</table>\n<p>6964 rows × 3 columns</p>\n</div>"
     },
     "metadata": {},
     "execution_count": 39
    }
   ],
   "source": [
    "df1.drop(['V1','description', 'location'],axis=1)"
   ]
  }
 ]
}